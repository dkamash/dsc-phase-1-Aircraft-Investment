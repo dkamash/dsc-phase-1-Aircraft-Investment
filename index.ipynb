{
 "cells": [
  {
   "cell_type": "markdown",
   "metadata": {},
   "source": [
    "# Phase 1 Aviation Project Description"
   ]
  },
  {
   "cell_type": "markdown",
   "metadata": {},
   "source": [
    "## Project Overview"
   ]
  },
  {
   "cell_type": "markdown",
   "metadata": {},
   "source": [
    "For this project, we will use data cleaning, imputation, analysis, and visualization to generate insights for a business stakeholder."
   ]
  },
  {
   "cell_type": "markdown",
   "metadata": {},
   "source": [
    "### Business Problem"
   ]
  },
  {
   "cell_type": "markdown",
   "metadata": {},
   "source": [
    "Your company is expanding in to new industries to diversify its portfolio. Specifically, they are interested in purchasing and operating airplanes for commercial and private enterprises, but do not know anything about the potential risks of aircraft. You are charged with determining which aircraft are the lowest risk for the company to start this new business endeavor. You must then translate your findings into actionable insights that the head of the new aviation division can use to help decide which aircraft to purchase."
   ]
  },
  {
   "cell_type": "markdown",
   "metadata": {},
   "source": [
    "### The Data"
   ]
  },
  {
   "cell_type": "markdown",
   "metadata": {},
   "source": [
    "In the `data` folder is a [dataset](https://www.kaggle.com/datasets/khsamaha/aviation-accident-database-synopses) from the National Transportation Safety Board that includes aviation accident data from 1962 to 2023 about civil aviation accidents and selected incidents in the United States and international waters.\n",
    "\n",
    "It is up to you to decide what data to use, how to deal with missing values, how to aggregate the data, and how to visualize it in an interactive dashboard."
   ]
  },
  {
   "cell_type": "code",
   "execution_count": 1,
   "metadata": {},
   "outputs": [
    {
     "name": "stderr",
     "output_type": "stream",
     "text": [
      "C:\\Users\\david.munyiri\\AppData\\Local\\anaconda3\\envs\\learn-env\\lib\\site-packages\\IPython\\core\\interactiveshell.py:3145: DtypeWarning: Columns (6,7,28) have mixed types.Specify dtype option on import or set low_memory=False.\n",
      "  has_raised = await self.run_ast_nodes(code_ast.body, cell_name,\n"
     ]
    }
   ],
   "source": [
    "import pandas as pd\n",
    "Aviation_df = pd.read_csv(\"data/Aviation_Data.csv\")"
   ]
  },
  {
   "cell_type": "code",
   "execution_count": 2,
   "metadata": {},
   "outputs": [
    {
     "data": {
      "text/plain": [
       "(90348, 31)"
      ]
     },
     "execution_count": 2,
     "metadata": {},
     "output_type": "execute_result"
    }
   ],
   "source": [
    "#Check the size of the Aviation raw data\n",
    "Aviation_df.shape"
   ]
  },
  {
   "cell_type": "code",
   "execution_count": 3,
   "metadata": {
    "scrolled": true
   },
   "outputs": [
    {
     "data": {
      "text/html": [
       "<div>\n",
       "<style scoped>\n",
       "    .dataframe tbody tr th:only-of-type {\n",
       "        vertical-align: middle;\n",
       "    }\n",
       "\n",
       "    .dataframe tbody tr th {\n",
       "        vertical-align: top;\n",
       "    }\n",
       "\n",
       "    .dataframe thead th {\n",
       "        text-align: right;\n",
       "    }\n",
       "</style>\n",
       "<table border=\"1\" class=\"dataframe\">\n",
       "  <thead>\n",
       "    <tr style=\"text-align: right;\">\n",
       "      <th></th>\n",
       "      <th>Event.Id</th>\n",
       "      <th>Investigation.Type</th>\n",
       "      <th>Accident.Number</th>\n",
       "      <th>Event.Date</th>\n",
       "      <th>Location</th>\n",
       "      <th>Country</th>\n",
       "      <th>Latitude</th>\n",
       "      <th>Longitude</th>\n",
       "      <th>Airport.Code</th>\n",
       "      <th>Airport.Name</th>\n",
       "      <th>...</th>\n",
       "      <th>Purpose.of.flight</th>\n",
       "      <th>Air.carrier</th>\n",
       "      <th>Total.Fatal.Injuries</th>\n",
       "      <th>Total.Serious.Injuries</th>\n",
       "      <th>Total.Minor.Injuries</th>\n",
       "      <th>Total.Uninjured</th>\n",
       "      <th>Weather.Condition</th>\n",
       "      <th>Broad.phase.of.flight</th>\n",
       "      <th>Report.Status</th>\n",
       "      <th>Publication.Date</th>\n",
       "    </tr>\n",
       "  </thead>\n",
       "  <tbody>\n",
       "    <tr>\n",
       "      <th>0</th>\n",
       "      <td>20001218X45444</td>\n",
       "      <td>Accident</td>\n",
       "      <td>SEA87LA080</td>\n",
       "      <td>1948-10-24</td>\n",
       "      <td>MOOSE CREEK, ID</td>\n",
       "      <td>United States</td>\n",
       "      <td>NaN</td>\n",
       "      <td>NaN</td>\n",
       "      <td>NaN</td>\n",
       "      <td>NaN</td>\n",
       "      <td>...</td>\n",
       "      <td>Personal</td>\n",
       "      <td>NaN</td>\n",
       "      <td>2.0</td>\n",
       "      <td>0.0</td>\n",
       "      <td>0.0</td>\n",
       "      <td>0.0</td>\n",
       "      <td>UNK</td>\n",
       "      <td>Cruise</td>\n",
       "      <td>Probable Cause</td>\n",
       "      <td>NaN</td>\n",
       "    </tr>\n",
       "    <tr>\n",
       "      <th>1</th>\n",
       "      <td>20001218X45447</td>\n",
       "      <td>Accident</td>\n",
       "      <td>LAX94LA336</td>\n",
       "      <td>1962-07-19</td>\n",
       "      <td>BRIDGEPORT, CA</td>\n",
       "      <td>United States</td>\n",
       "      <td>NaN</td>\n",
       "      <td>NaN</td>\n",
       "      <td>NaN</td>\n",
       "      <td>NaN</td>\n",
       "      <td>...</td>\n",
       "      <td>Personal</td>\n",
       "      <td>NaN</td>\n",
       "      <td>4.0</td>\n",
       "      <td>0.0</td>\n",
       "      <td>0.0</td>\n",
       "      <td>0.0</td>\n",
       "      <td>UNK</td>\n",
       "      <td>Unknown</td>\n",
       "      <td>Probable Cause</td>\n",
       "      <td>19-09-1996</td>\n",
       "    </tr>\n",
       "    <tr>\n",
       "      <th>2</th>\n",
       "      <td>20061025X01555</td>\n",
       "      <td>Accident</td>\n",
       "      <td>NYC07LA005</td>\n",
       "      <td>1974-08-30</td>\n",
       "      <td>Saltville, VA</td>\n",
       "      <td>United States</td>\n",
       "      <td>36.9222</td>\n",
       "      <td>-81.8781</td>\n",
       "      <td>NaN</td>\n",
       "      <td>NaN</td>\n",
       "      <td>...</td>\n",
       "      <td>Personal</td>\n",
       "      <td>NaN</td>\n",
       "      <td>3.0</td>\n",
       "      <td>NaN</td>\n",
       "      <td>NaN</td>\n",
       "      <td>NaN</td>\n",
       "      <td>IMC</td>\n",
       "      <td>Cruise</td>\n",
       "      <td>Probable Cause</td>\n",
       "      <td>26-02-2007</td>\n",
       "    </tr>\n",
       "    <tr>\n",
       "      <th>3</th>\n",
       "      <td>20001218X45448</td>\n",
       "      <td>Accident</td>\n",
       "      <td>LAX96LA321</td>\n",
       "      <td>1977-06-19</td>\n",
       "      <td>EUREKA, CA</td>\n",
       "      <td>United States</td>\n",
       "      <td>NaN</td>\n",
       "      <td>NaN</td>\n",
       "      <td>NaN</td>\n",
       "      <td>NaN</td>\n",
       "      <td>...</td>\n",
       "      <td>Personal</td>\n",
       "      <td>NaN</td>\n",
       "      <td>2.0</td>\n",
       "      <td>0.0</td>\n",
       "      <td>0.0</td>\n",
       "      <td>0.0</td>\n",
       "      <td>IMC</td>\n",
       "      <td>Cruise</td>\n",
       "      <td>Probable Cause</td>\n",
       "      <td>12-09-2000</td>\n",
       "    </tr>\n",
       "    <tr>\n",
       "      <th>4</th>\n",
       "      <td>20041105X01764</td>\n",
       "      <td>Accident</td>\n",
       "      <td>CHI79FA064</td>\n",
       "      <td>1979-08-02</td>\n",
       "      <td>Canton, OH</td>\n",
       "      <td>United States</td>\n",
       "      <td>NaN</td>\n",
       "      <td>NaN</td>\n",
       "      <td>NaN</td>\n",
       "      <td>NaN</td>\n",
       "      <td>...</td>\n",
       "      <td>Personal</td>\n",
       "      <td>NaN</td>\n",
       "      <td>1.0</td>\n",
       "      <td>2.0</td>\n",
       "      <td>NaN</td>\n",
       "      <td>0.0</td>\n",
       "      <td>VMC</td>\n",
       "      <td>Approach</td>\n",
       "      <td>Probable Cause</td>\n",
       "      <td>16-04-1980</td>\n",
       "    </tr>\n",
       "    <tr>\n",
       "      <th>5</th>\n",
       "      <td>20170710X52551</td>\n",
       "      <td>Accident</td>\n",
       "      <td>NYC79AA106</td>\n",
       "      <td>1979-09-17</td>\n",
       "      <td>BOSTON, MA</td>\n",
       "      <td>United States</td>\n",
       "      <td>42.4453</td>\n",
       "      <td>-70.7583</td>\n",
       "      <td>NaN</td>\n",
       "      <td>NaN</td>\n",
       "      <td>...</td>\n",
       "      <td>NaN</td>\n",
       "      <td>Air Canada</td>\n",
       "      <td>NaN</td>\n",
       "      <td>NaN</td>\n",
       "      <td>1.0</td>\n",
       "      <td>44.0</td>\n",
       "      <td>VMC</td>\n",
       "      <td>Climb</td>\n",
       "      <td>Probable Cause</td>\n",
       "      <td>19-09-2017</td>\n",
       "    </tr>\n",
       "    <tr>\n",
       "      <th>6</th>\n",
       "      <td>20001218X45446</td>\n",
       "      <td>Accident</td>\n",
       "      <td>CHI81LA106</td>\n",
       "      <td>1981-08-01</td>\n",
       "      <td>COTTON, MN</td>\n",
       "      <td>United States</td>\n",
       "      <td>NaN</td>\n",
       "      <td>NaN</td>\n",
       "      <td>NaN</td>\n",
       "      <td>NaN</td>\n",
       "      <td>...</td>\n",
       "      <td>Personal</td>\n",
       "      <td>NaN</td>\n",
       "      <td>4.0</td>\n",
       "      <td>0.0</td>\n",
       "      <td>0.0</td>\n",
       "      <td>0.0</td>\n",
       "      <td>IMC</td>\n",
       "      <td>Unknown</td>\n",
       "      <td>Probable Cause</td>\n",
       "      <td>06-11-2001</td>\n",
       "    </tr>\n",
       "    <tr>\n",
       "      <th>7</th>\n",
       "      <td>20020909X01562</td>\n",
       "      <td>Accident</td>\n",
       "      <td>SEA82DA022</td>\n",
       "      <td>1982-01-01</td>\n",
       "      <td>PULLMAN, WA</td>\n",
       "      <td>United States</td>\n",
       "      <td>NaN</td>\n",
       "      <td>NaN</td>\n",
       "      <td>NaN</td>\n",
       "      <td>BLACKBURN AG STRIP</td>\n",
       "      <td>...</td>\n",
       "      <td>Personal</td>\n",
       "      <td>NaN</td>\n",
       "      <td>0.0</td>\n",
       "      <td>0.0</td>\n",
       "      <td>0.0</td>\n",
       "      <td>2.0</td>\n",
       "      <td>VMC</td>\n",
       "      <td>Takeoff</td>\n",
       "      <td>Probable Cause</td>\n",
       "      <td>01-01-1982</td>\n",
       "    </tr>\n",
       "    <tr>\n",
       "      <th>8</th>\n",
       "      <td>20020909X01561</td>\n",
       "      <td>Accident</td>\n",
       "      <td>NYC82DA015</td>\n",
       "      <td>1982-01-01</td>\n",
       "      <td>EAST HANOVER, NJ</td>\n",
       "      <td>United States</td>\n",
       "      <td>NaN</td>\n",
       "      <td>NaN</td>\n",
       "      <td>N58</td>\n",
       "      <td>HANOVER</td>\n",
       "      <td>...</td>\n",
       "      <td>Business</td>\n",
       "      <td>NaN</td>\n",
       "      <td>0.0</td>\n",
       "      <td>0.0</td>\n",
       "      <td>0.0</td>\n",
       "      <td>2.0</td>\n",
       "      <td>IMC</td>\n",
       "      <td>Landing</td>\n",
       "      <td>Probable Cause</td>\n",
       "      <td>01-01-1982</td>\n",
       "    </tr>\n",
       "    <tr>\n",
       "      <th>9</th>\n",
       "      <td>20020909X01560</td>\n",
       "      <td>Accident</td>\n",
       "      <td>MIA82DA029</td>\n",
       "      <td>1982-01-01</td>\n",
       "      <td>JACKSONVILLE, FL</td>\n",
       "      <td>United States</td>\n",
       "      <td>NaN</td>\n",
       "      <td>NaN</td>\n",
       "      <td>JAX</td>\n",
       "      <td>JACKSONVILLE INTL</td>\n",
       "      <td>...</td>\n",
       "      <td>Personal</td>\n",
       "      <td>NaN</td>\n",
       "      <td>0.0</td>\n",
       "      <td>0.0</td>\n",
       "      <td>3.0</td>\n",
       "      <td>0.0</td>\n",
       "      <td>IMC</td>\n",
       "      <td>Cruise</td>\n",
       "      <td>Probable Cause</td>\n",
       "      <td>01-01-1982</td>\n",
       "    </tr>\n",
       "  </tbody>\n",
       "</table>\n",
       "<p>10 rows × 31 columns</p>\n",
       "</div>"
      ],
      "text/plain": [
       "         Event.Id Investigation.Type Accident.Number  Event.Date  \\\n",
       "0  20001218X45444           Accident      SEA87LA080  1948-10-24   \n",
       "1  20001218X45447           Accident      LAX94LA336  1962-07-19   \n",
       "2  20061025X01555           Accident      NYC07LA005  1974-08-30   \n",
       "3  20001218X45448           Accident      LAX96LA321  1977-06-19   \n",
       "4  20041105X01764           Accident      CHI79FA064  1979-08-02   \n",
       "5  20170710X52551           Accident      NYC79AA106  1979-09-17   \n",
       "6  20001218X45446           Accident      CHI81LA106  1981-08-01   \n",
       "7  20020909X01562           Accident      SEA82DA022  1982-01-01   \n",
       "8  20020909X01561           Accident      NYC82DA015  1982-01-01   \n",
       "9  20020909X01560           Accident      MIA82DA029  1982-01-01   \n",
       "\n",
       "           Location        Country Latitude Longitude Airport.Code  \\\n",
       "0   MOOSE CREEK, ID  United States      NaN       NaN          NaN   \n",
       "1    BRIDGEPORT, CA  United States      NaN       NaN          NaN   \n",
       "2     Saltville, VA  United States  36.9222  -81.8781          NaN   \n",
       "3        EUREKA, CA  United States      NaN       NaN          NaN   \n",
       "4        Canton, OH  United States      NaN       NaN          NaN   \n",
       "5        BOSTON, MA  United States  42.4453  -70.7583          NaN   \n",
       "6        COTTON, MN  United States      NaN       NaN          NaN   \n",
       "7       PULLMAN, WA  United States      NaN       NaN          NaN   \n",
       "8  EAST HANOVER, NJ  United States      NaN       NaN          N58   \n",
       "9  JACKSONVILLE, FL  United States      NaN       NaN          JAX   \n",
       "\n",
       "         Airport.Name  ... Purpose.of.flight Air.carrier Total.Fatal.Injuries  \\\n",
       "0                 NaN  ...          Personal         NaN                  2.0   \n",
       "1                 NaN  ...          Personal         NaN                  4.0   \n",
       "2                 NaN  ...          Personal         NaN                  3.0   \n",
       "3                 NaN  ...          Personal         NaN                  2.0   \n",
       "4                 NaN  ...          Personal         NaN                  1.0   \n",
       "5                 NaN  ...               NaN  Air Canada                  NaN   \n",
       "6                 NaN  ...          Personal         NaN                  4.0   \n",
       "7  BLACKBURN AG STRIP  ...          Personal         NaN                  0.0   \n",
       "8             HANOVER  ...          Business         NaN                  0.0   \n",
       "9   JACKSONVILLE INTL  ...          Personal         NaN                  0.0   \n",
       "\n",
       "  Total.Serious.Injuries Total.Minor.Injuries Total.Uninjured  \\\n",
       "0                    0.0                  0.0             0.0   \n",
       "1                    0.0                  0.0             0.0   \n",
       "2                    NaN                  NaN             NaN   \n",
       "3                    0.0                  0.0             0.0   \n",
       "4                    2.0                  NaN             0.0   \n",
       "5                    NaN                  1.0            44.0   \n",
       "6                    0.0                  0.0             0.0   \n",
       "7                    0.0                  0.0             2.0   \n",
       "8                    0.0                  0.0             2.0   \n",
       "9                    0.0                  3.0             0.0   \n",
       "\n",
       "  Weather.Condition  Broad.phase.of.flight   Report.Status Publication.Date  \n",
       "0               UNK                 Cruise  Probable Cause              NaN  \n",
       "1               UNK                Unknown  Probable Cause       19-09-1996  \n",
       "2               IMC                 Cruise  Probable Cause       26-02-2007  \n",
       "3               IMC                 Cruise  Probable Cause       12-09-2000  \n",
       "4               VMC               Approach  Probable Cause       16-04-1980  \n",
       "5               VMC                  Climb  Probable Cause       19-09-2017  \n",
       "6               IMC                Unknown  Probable Cause       06-11-2001  \n",
       "7               VMC                Takeoff  Probable Cause       01-01-1982  \n",
       "8               IMC                Landing  Probable Cause       01-01-1982  \n",
       "9               IMC                 Cruise  Probable Cause       01-01-1982  \n",
       "\n",
       "[10 rows x 31 columns]"
      ]
     },
     "execution_count": 3,
     "metadata": {},
     "output_type": "execute_result"
    }
   ],
   "source": [
    "#View a sample of the Aviation \n",
    "Aviation_df.head(10)"
   ]
  },
  {
   "cell_type": "code",
   "execution_count": 4,
   "metadata": {},
   "outputs": [
    {
     "data": {
      "text/plain": [
       "Index(['Event.Id', 'Investigation.Type', 'Accident.Number', 'Event.Date',\n",
       "       'Location', 'Country', 'Latitude', 'Longitude', 'Airport.Code',\n",
       "       'Airport.Name', 'Injury.Severity', 'Aircraft.damage',\n",
       "       'Aircraft.Category', 'Registration.Number', 'Make', 'Model',\n",
       "       'Amateur.Built', 'Number.of.Engines', 'Engine.Type', 'FAR.Description',\n",
       "       'Schedule', 'Purpose.of.flight', 'Air.carrier', 'Total.Fatal.Injuries',\n",
       "       'Total.Serious.Injuries', 'Total.Minor.Injuries', 'Total.Uninjured',\n",
       "       'Weather.Condition', 'Broad.phase.of.flight', 'Report.Status',\n",
       "       'Publication.Date'],\n",
       "      dtype='object')"
      ]
     },
     "execution_count": 4,
     "metadata": {},
     "output_type": "execute_result"
    }
   ],
   "source": [
    "#View the all the columns of the \n",
    "Aviation_df.columns"
   ]
  },
  {
   "cell_type": "code",
   "execution_count": 5,
   "metadata": {},
   "outputs": [
    {
     "name": "stdout",
     "output_type": "stream",
     "text": [
      "<class 'pandas.core.frame.DataFrame'>\n",
      "RangeIndex: 90348 entries, 0 to 90347\n",
      "Data columns (total 31 columns):\n",
      " #   Column                  Non-Null Count  Dtype  \n",
      "---  ------                  --------------  -----  \n",
      " 0   Event.Id                88889 non-null  object \n",
      " 1   Investigation.Type      90348 non-null  object \n",
      " 2   Accident.Number         88889 non-null  object \n",
      " 3   Event.Date              88889 non-null  object \n",
      " 4   Location                88837 non-null  object \n",
      " 5   Country                 88663 non-null  object \n",
      " 6   Latitude                34382 non-null  object \n",
      " 7   Longitude               34373 non-null  object \n",
      " 8   Airport.Code            50249 non-null  object \n",
      " 9   Airport.Name            52790 non-null  object \n",
      " 10  Injury.Severity         87889 non-null  object \n",
      " 11  Aircraft.damage         85695 non-null  object \n",
      " 12  Aircraft.Category       32287 non-null  object \n",
      " 13  Registration.Number     87572 non-null  object \n",
      " 14  Make                    88826 non-null  object \n",
      " 15  Model                   88797 non-null  object \n",
      " 16  Amateur.Built           88787 non-null  object \n",
      " 17  Number.of.Engines       82805 non-null  float64\n",
      " 18  Engine.Type             81812 non-null  object \n",
      " 19  FAR.Description         32023 non-null  object \n",
      " 20  Schedule                12582 non-null  object \n",
      " 21  Purpose.of.flight       82697 non-null  object \n",
      " 22  Air.carrier             16648 non-null  object \n",
      " 23  Total.Fatal.Injuries    77488 non-null  float64\n",
      " 24  Total.Serious.Injuries  76379 non-null  float64\n",
      " 25  Total.Minor.Injuries    76956 non-null  float64\n",
      " 26  Total.Uninjured         82977 non-null  float64\n",
      " 27  Weather.Condition       84397 non-null  object \n",
      " 28  Broad.phase.of.flight   61724 non-null  object \n",
      " 29  Report.Status           82508 non-null  object \n",
      " 30  Publication.Date        73659 non-null  object \n",
      "dtypes: float64(5), object(26)\n",
      "memory usage: 21.4+ MB\n"
     ]
    }
   ],
   "source": [
    "#Get information on the data types and content in different columns\n",
    "Aviation_df.info()"
   ]
  },
  {
   "cell_type": "markdown",
   "metadata": {},
   "source": [
    "# Data Cleaning"
   ]
  },
  {
   "cell_type": "code",
   "execution_count": 6,
   "metadata": {},
   "outputs": [],
   "source": [
    "def clean(col_name):\n",
    "    # Clean the column name in any way you want to remove any spaces\n",
    "    cleaned = col_name.strip()\n",
    "    return cleaned"
   ]
  },
  {
   "cell_type": "code",
   "execution_count": 7,
   "metadata": {},
   "outputs": [],
   "source": [
    "#Change all the data into lower case\n",
    "Aviation_df[Aviation_df.select_dtypes(include='object').columns] = Aviation_df.select_dtypes(include='object').apply(lambda col: col.str.lower())"
   ]
  },
  {
   "cell_type": "code",
   "execution_count": 8,
   "metadata": {},
   "outputs": [],
   "source": [
    "# Use the above function to clean the column names\n",
    "Aviation_df.columns = [clean(col) for col in Aviation_df.columns] "
   ]
  },
  {
   "cell_type": "code",
   "execution_count": 9,
   "metadata": {},
   "outputs": [],
   "source": [
    "#Convert date columns into the correct date types\n",
    "Aviation_df[['Event.Date', 'Publication.Date']] = Aviation_df[['Event.Date', 'Publication.Date']].apply(pd.to_datetime, errors='coerce')"
   ]
  },
  {
   "cell_type": "markdown",
   "metadata": {},
   "source": [
    "Check rows required for client recomendation for Null values and drop them as recommendation cannot be done without these values\n",
    "1. Make                       \n",
    "2. Model\n",
    "3. Aircraft Category"
   ]
  },
  {
   "cell_type": "code",
   "execution_count": 10,
   "metadata": {},
   "outputs": [
    {
     "data": {
      "text/plain": [
       "Event.Id                   1459\n",
       "Investigation.Type            0\n",
       "Accident.Number            1459\n",
       "Event.Date                 1459\n",
       "Location                   1511\n",
       "Country                    1685\n",
       "Latitude                  55975\n",
       "Longitude                 55984\n",
       "Airport.Code              40099\n",
       "Airport.Name              37558\n",
       "Injury.Severity            2459\n",
       "Aircraft.damage            4653\n",
       "Aircraft.Category         58061\n",
       "Registration.Number        2776\n",
       "Make                       1522\n",
       "Model                      1551\n",
       "Amateur.Built              1561\n",
       "Number.of.Engines          7543\n",
       "Engine.Type                8536\n",
       "FAR.Description           58325\n",
       "Schedule                  77766\n",
       "Purpose.of.flight          7651\n",
       "Air.carrier               73700\n",
       "Total.Fatal.Injuries      12860\n",
       "Total.Serious.Injuries    13969\n",
       "Total.Minor.Injuries      13392\n",
       "Total.Uninjured            7371\n",
       "Weather.Condition          5951\n",
       "Broad.phase.of.flight     28624\n",
       "Report.Status              7840\n",
       "Publication.Date          16689\n",
       "dtype: int64"
      ]
     },
     "execution_count": 10,
     "metadata": {},
     "output_type": "execute_result"
    }
   ],
   "source": [
    "#check for empty cells\n",
    "Aviation_df.isna().sum()"
   ]
  },
  {
   "cell_type": "code",
   "execution_count": 11,
   "metadata": {},
   "outputs": [],
   "source": [
    "# Drop rows with missing core values of Make, Model, Aircraft Category requird for recommendation\n",
    "Aviation_df.dropna(subset=[\"Make\"], inplace=True)\n",
    "Aviation_df.dropna(subset=[\"Model\"], inplace=True)\n",
    "Aviation_df.dropna(subset=[\"Aircraft.Category\"], inplace=True)"
   ]
  },
  {
   "cell_type": "code",
   "execution_count": 12,
   "metadata": {},
   "outputs": [
    {
     "data": {
      "text/plain": [
       "(32245, 31)"
      ]
     },
     "execution_count": 12,
     "metadata": {},
     "output_type": "execute_result"
    }
   ],
   "source": [
    "Aviation_df.shape"
   ]
  },
  {
   "cell_type": "code",
   "execution_count": 13,
   "metadata": {},
   "outputs": [
    {
     "data": {
      "text/plain": [
       "Event.Id                      0\n",
       "Investigation.Type            0\n",
       "Accident.Number               0\n",
       "Event.Date                    0\n",
       "Location                      9\n",
       "Country                      12\n",
       "Latitude                   6293\n",
       "Longitude                  6303\n",
       "Airport.Code              12648\n",
       "Airport.Name              12091\n",
       "Injury.Severity             882\n",
       "Aircraft.damage            1455\n",
       "Aircraft.Category             0\n",
       "Registration.Number         270\n",
       "Make                          0\n",
       "Model                         0\n",
       "Amateur.Built                19\n",
       "Number.of.Engines          3452\n",
       "Engine.Type                5525\n",
       "FAR.Description             608\n",
       "Schedule                  28765\n",
       "Purpose.of.flight          4439\n",
       "Air.carrier               18632\n",
       "Total.Fatal.Injuries       3705\n",
       "Total.Serious.Injuries     3712\n",
       "Total.Minor.Injuries       3325\n",
       "Total.Uninjured            1074\n",
       "Weather.Condition          3654\n",
       "Broad.phase.of.flight     24893\n",
       "Report.Status              5949\n",
       "Publication.Date           2647\n",
       "dtype: int64"
      ]
     },
     "execution_count": 13,
     "metadata": {},
     "output_type": "execute_result"
    }
   ],
   "source": [
    "Aviation_df.isna().sum()"
   ]
  },
  {
   "cell_type": "code",
   "execution_count": 14,
   "metadata": {},
   "outputs": [],
   "source": [
    "#Drop rows without any Risk/Safety indicators i.e. fatalities, injuries, damage\n",
    "Aviation_df = Aviation_df.dropna(subset=['Aircraft.damage', 'Total.Fatal.Injuries', \n",
    "                                         'Total.Serious.Injuries','Total.Minor.Injuries',\n",
    "                                         'Total.Uninjured'], how='all')"
   ]
  },
  {
   "cell_type": "code",
   "execution_count": 15,
   "metadata": {},
   "outputs": [
    {
     "data": {
      "text/plain": [
       "(32227, 31)"
      ]
     },
     "execution_count": 15,
     "metadata": {},
     "output_type": "execute_result"
    }
   ],
   "source": [
    "Aviation_df.shape"
   ]
  },
  {
   "cell_type": "code",
   "execution_count": 16,
   "metadata": {},
   "outputs": [
    {
     "data": {
      "text/plain": [
       "(array(['mcdonnell douglas', 'cessna', 'bellanca', ..., 'greg hobbs',\n",
       "        'james r dernovsek', 'orlican s r o'], dtype=object),\n",
       " cessna                       8471\n",
       " piper                        4714\n",
       " beech                        1691\n",
       " boeing                       1314\n",
       " bell                          912\n",
       "                              ... \n",
       " bosko wr/bosko ce               1\n",
       " sharp ralph r                   1\n",
       " gray jack                       1\n",
       " precision helicopters llc       1\n",
       " jonsson                         1\n",
       " Name: Make, Length: 4205, dtype: int64)"
      ]
     },
     "execution_count": 16,
     "metadata": {},
     "output_type": "execute_result"
    }
   ],
   "source": [
    "Unique_Make, Make_count = Aviation_df['Make'].unique(), Aviation_df['Make'].value_counts()\n",
    "Unique_Make, Make_count"
   ]
  },
  {
   "cell_type": "code",
   "execution_count": 17,
   "metadata": {},
   "outputs": [
    {
     "data": {
      "text/plain": [
       "(array(['dc9', '140', '401b', ..., 'mh-60r', 'kitfox s5', 'm-8 eagle'],\n",
       "       dtype=object),\n",
       " 172                 870\n",
       " 152                 451\n",
       " 737                 404\n",
       " 182                 345\n",
       " 172n                316\n",
       "                    ... \n",
       " c-82a                 1\n",
       " td                    1\n",
       " tb10 - no series      1\n",
       " starduster ii         1\n",
       " air-bike              1\n",
       " Name: Model, Length: 6319, dtype: int64)"
      ]
     },
     "execution_count": 17,
     "metadata": {},
     "output_type": "execute_result"
    }
   ],
   "source": [
    "Unique_Model, Model_count = Aviation_df['Model'].unique(), Aviation_df['Model'].value_counts()\n",
    "Unique_Model, Model_count"
   ]
  },
  {
   "cell_type": "code",
   "execution_count": 18,
   "metadata": {},
   "outputs": [
    {
     "data": {
      "text/plain": [
       "(array(['airplane', 'helicopter', 'glider', 'balloon', 'gyrocraft',\n",
       "        'ultralight', 'unknown', 'blimp', 'powered-lift', 'weight-shift',\n",
       "        'powered parachute', 'rocket', 'wsft', 'unk', 'ultr'], dtype=object),\n",
       " airplane             27562\n",
       " helicopter            3435\n",
       " glider                 508\n",
       " balloon                231\n",
       " gyrocraft              173\n",
       " weight-shift           161\n",
       " powered parachute       91\n",
       " ultralight              30\n",
       " unknown                 14\n",
       " wsft                     9\n",
       " powered-lift             5\n",
       " blimp                    4\n",
       " unk                      2\n",
       " ultr                     1\n",
       " rocket                   1\n",
       " Name: Aircraft.Category, dtype: int64)"
      ]
     },
     "execution_count": 18,
     "metadata": {},
     "output_type": "execute_result"
    }
   ],
   "source": [
    "Unique_Aircraft_Category, Aircraft_Category_count = (Aviation_df['Aircraft.Category'].unique(), \n",
    "                                                     Aviation_df['Aircraft.Category'].value_counts())\n",
    "Unique_Aircraft_Category, Aircraft_Category_count"
   ]
  },
  {
   "cell_type": "code",
   "execution_count": 76,
   "metadata": {},
   "outputs": [],
   "source": [
    "#Retain only airplane and helicopter categories\n",
    "Aviation_df = Aviation_df[Aviation_df['Aircraft.Category'].str.strip().str.lower().isin(['airplane', 'helicopter'])]\n",
    "\n",
    "#Concat make and model into new column inorder to easily get measures of central tendancy\n",
    "Aviation_df['Make_Model'] = (df['Make'].astype(str) + ' ' + df['Model'].astype(str)).str.title()"
   ]
  },
  {
   "cell_type": "markdown",
   "metadata": {},
   "source": [
    "# Data Modelling"
   ]
  },
  {
   "cell_type": "code",
   "execution_count": 77,
   "metadata": {},
   "outputs": [],
   "source": [
    "#Creation and Visualization of models\n",
    "import matplotlib.pyplot as plt\n",
    "import seaborn as sns"
   ]
  },
  {
   "cell_type": "code",
   "execution_count": 79,
   "metadata": {},
   "outputs": [],
   "source": [
    "# 1. Select relevant columns for analysis\n",
    "cols = ['Make_Model','Aircraft.damage', 'Injury.Severity',\n",
    "        'Total.Fatal.Injuries', 'Total.Serious.Injuries', 'Total.Minor.Injuries',\n",
    "        'Total.Uninjured', 'Amateur.Built', 'Number.of.Engines', 'Engine.Type']\n",
    "df = Aviation_df[cols]"
   ]
  },
  {
   "cell_type": "code",
   "execution_count": 80,
   "metadata": {},
   "outputs": [
    {
     "data": {
      "text/plain": [
       "Cessna 172                      867\n",
       "Cessna 152                      450\n",
       "Boeing 737                      404\n",
       "Cessna 182                      345\n",
       "Cessna 172N                     315\n",
       "                               ... \n",
       "Kamtz Russell H Rv-6A             1\n",
       "Rich Wheeler Express Ct           1\n",
       "Piper Cub Crafters Pa-18-150      1\n",
       "Vans Aircraft Rv6                 1\n",
       "Piper Pa 32R 301T                 1\n",
       "Name: Make_Model, Length: 8353, dtype: int64"
      ]
     },
     "execution_count": 80,
     "metadata": {},
     "output_type": "execute_result"
    }
   ],
   "source": [
    "# 2. Accident frequency per Model\n",
    "# How often each model appears (indicator of incident rate)\n",
    "accident_counts = df['Make_Model'].value_counts()\n",
    "accident_counts"
   ]
  },
  {
   "cell_type": "code",
   "execution_count": 96,
   "metadata": {},
   "outputs": [],
   "source": [
    "# 3. Severe damage ratio per Model\n",
    "# Percentage of incidents with damage = Substantial or Destroyed\n",
    "damage_ratio = df.groupby('Make_Model')['Aircraft.damage'].apply(\n",
    "    lambda x: (x.isin(['Substantial', 'Destroyed']).sum()) / len(x)\n",
    ")"
   ]
  },
  {
   "cell_type": "code",
   "execution_count": 82,
   "metadata": {},
   "outputs": [],
   "source": [
    "# 4. Fatal Injury Rate per Model\n",
    "fatal_rate = df.groupby('Make_Model')['Total.Fatal.Injuries'].mean()"
   ]
  },
  {
   "cell_type": "code",
   "execution_count": 100,
   "metadata": {},
   "outputs": [],
   "source": [
    "# 5. Severity Score (weighted)\n",
    "# Fatal = 3 points, Serious = 2, Minor = 1\n",
    "# Severity Score (weighted injuries)\n",
    "df['Severity_Score'] = (df['Total.Fatal.Injuries']*3 +\n",
    "                         df['Total.Serious.Injuries']*2 +\n",
    "                         df['Total.Minor.Injuries'])\n",
    "severity_score = df.groupby('Make_Model')['Severity_Score'].mean()"
   ]
  },
  {
   "cell_type": "code",
   "execution_count": 101,
   "metadata": {},
   "outputs": [
    {
     "data": {
      "text/plain": [
       "Make_Model\n",
       "177Mf Llc Pitts Model 12       4.0\n",
       "2007 Savage Air Llc Epic Lt    0.0\n",
       "2021Fx3 Llc Ccx-2000           0.0\n",
       "3Xtrim 450 Ultra               4.0\n",
       "5 Rivers Llc Sq-2              1.0\n",
       "Name: Severity_Score, dtype: float64"
      ]
     },
     "execution_count": 101,
     "metadata": {},
     "output_type": "execute_result"
    }
   ],
   "source": [
    "severity_score.head()"
   ]
  },
  {
   "cell_type": "code",
   "execution_count": 102,
   "metadata": {},
   "outputs": [],
   "source": [
    "\n",
    "# 6. Amateur Built Ratio\n",
    "amateur_ratio = df.groupby('Make_Model')['Amateur.Built'].apply(lambda x: (x == 'Yes').mean())\n"
   ]
  },
  {
   "cell_type": "markdown",
   "metadata": {},
   "source": [
    "# 7. Engine configuration (mode for engines and type)\n",
    "engine_config = df.groupby('Make_Model')[['Number.of.Engines','Engine.Type']].agg(\n",
    "    lambda x: x.mode().iat[0] if not x.mode().empty else None\n",
    ")\n"
   ]
  },
  {
   "cell_type": "code",
   "execution_count": 91,
   "metadata": {},
   "outputs": [],
   "source": [
    "# 8. Combine all metrics into one DataFrame for ranking\n",
    "summary = pd.DataFrame({\n",
    "    'Accident_Count': accident_counts,\n",
    "    'Severe_Damage_Ratio': damage_ratio,\n",
    "    'Fatal_Rate': fatal_rate,\n",
    "    'Severity_Score': severity_score,\n",
    "    'Amateur_Ratio': amateur_ratio\n",
    "}).fillna(0)"
   ]
  },
  {
   "cell_type": "markdown",
   "metadata": {},
   "source": [
    "# Add engine info\n",
    "summary = summary.merge(engine_config, left_index=True, right_index=True)"
   ]
  },
  {
   "cell_type": "code",
   "execution_count": 93,
   "metadata": {},
   "outputs": [
    {
     "name": "stdout",
     "output_type": "stream",
     "text": [
      "                            Accident_Count  Severe_Damage_Ratio  Fatal_Rate  \\\n",
      "Gulfstream Gulfstream200                 3                  0.0         0.0   \n",
      "Helmetag Glassair Iii                    1                  0.0         0.0   \n",
      "Helmer Avid Magnum                       1                  0.0         0.0   \n",
      "Helio H391                               1                  0.0         0.0   \n",
      "Helio H-395                              3                  0.0         0.0   \n",
      "Helio H-250                              1                  0.0         0.0   \n",
      "Helio H 395                              1                  0.0         0.0   \n",
      "Helie Rv-6                               1                  0.0         0.0   \n",
      "Helicopteres Guimbal Cabri               1                  0.0         0.0   \n",
      "Heinz Rans S-4 Coyote                    1                  0.0         0.0   \n",
      "\n",
      "                            Severity_Score  Amateur_Ratio  Number.of.Engines  \\\n",
      "Gulfstream Gulfstream200               0.0            0.0                NaN   \n",
      "Helmetag Glassair Iii                  0.0            0.0                1.0   \n",
      "Helmer Avid Magnum                     0.0            0.0                1.0   \n",
      "Helio H391                             0.0            0.0                1.0   \n",
      "Helio H-395                            0.0            0.0                1.0   \n",
      "Helio H-250                            0.0            0.0                1.0   \n",
      "Helio H 395                            0.0            0.0                1.0   \n",
      "Helie Rv-6                             0.0            0.0                1.0   \n",
      "Helicopteres Guimbal Cabri             0.0            0.0                1.0   \n",
      "Heinz Rans S-4 Coyote                  0.0            0.0                1.0   \n",
      "\n",
      "                              Engine.Type  Safety_Score  \n",
      "Gulfstream Gulfstream200             None           0.0  \n",
      "Helmetag Glassair Iii       reciprocating           0.0  \n",
      "Helmer Avid Magnum          reciprocating           0.0  \n",
      "Helio H391                  reciprocating           0.0  \n",
      "Helio H-395                 reciprocating           0.0  \n",
      "Helio H-250                 reciprocating           0.0  \n",
      "Helio H 395                 reciprocating           0.0  \n",
      "Helie Rv-6                  reciprocating           0.0  \n",
      "Helicopteres Guimbal Cabri  reciprocating           0.0  \n",
      "Heinz Rans S-4 Coyote       reciprocating           0.0  \n"
     ]
    }
   ],
   "source": [
    "# 9. Rank models by safety\n",
    "# Lower values for damage ratio, fatal rate, and severity score are better\n",
    "summary['Safety_Score'] = (summary['Severe_Damage_Ratio']*3 +\n",
    "                            summary['Fatal_Rate']*4 +\n",
    "                            summary['Severity_Score']*2 +\n",
    "                            summary['Amateur_Ratio']*2)\n",
    "\n",
    "summary_sorted = summary.sort_values(by='Safety_Score', ascending=True)\n",
    "print(summary_sorted.head(10))"
   ]
  },
  {
   "cell_type": "code",
   "execution_count": 103,
   "metadata": {},
   "outputs": [
    {
     "data": {
      "image/png": "[encoded data removed]",
      "text/plain": [
       "<Figure size 720x360 with 1 Axes>"
      ]
     },
     "metadata": {},
     "output_type": "display_data"
    }
   ],
   "source": [
    "# VISUALIZATIONS\n",
    "sns.set_style('whitegrid')\n",
    "\n",
    "# 1. Accident Frequency Distribution\n",
    "plt.figure(figsize=(10,5))\n",
    "top_accidents = summary['Accident_Count'].sort_values(ascending=False).head(15)\n",
    "sns.barplot(x=top_accidents.index, y=top_accidents.values, palette='Blues')\n",
    "plt.xticks(rotation=45, ha='right')\n",
    "plt.title('Top 15 Make_Model by Accident Count')\n",
    "plt.ylabel('Accident Count')\n",
    "plt.xlabel('Make_Model')\n",
    "plt.tight_layout()\n",
    "plt.show()"
   ]
  },
  {
   "cell_type": "code",
   "execution_count": 104,
   "metadata": {},
   "outputs": [
    {
     "data": {
      "image/png": "[encoded data removed]",
      "text/plain": [
       "<Figure size 720x432 with 1 Axes>"
      ]
     },
     "metadata": {},
     "output_type": "display_data"
    }
   ],
   "source": [
    "# 2. Scatter Plot: Accident Count vs Severity Score\n",
    "plt.figure(figsize=(10,6))\n",
    "sns.scatterplot(data=summary, x='Accident_Count', y='Severity_Score',\n",
    "                size='Severe_Damage_Ratio', hue='Fatal_Rate', sizes=(50, 500),\n",
    "                palette='coolwarm', alpha=0.7)\n",
    "plt.title('Accident Count vs Severity Score (Bubble = Damage Ratio, Color = Fatal Rate)')\n",
    "plt.xlabel('Accident Count')\n",
    "plt.ylabel('Severity Score')\n",
    "plt.legend(bbox_to_anchor=(1.05, 1), loc='upper left')\n",
    "plt.tight_layout()\n",
    "plt.show()"
   ]
  },
  {
   "cell_type": "code",
   "execution_count": 105,
   "metadata": {},
   "outputs": [
    {
     "data": {
      "image/png": "[encoded data removed]",
      "text/plain": [
       "<Figure size 864x432 with 1 Axes>"
      ]
     },
     "metadata": {},
     "output_type": "display_data"
    }
   ],
   "source": [
    "plt.figure(figsize=(12,6))\n",
    "top_models = top_accidents.index\n",
    "cumulative_accidents = top_accidents.cumsum()\n",
    "sns.lineplot(x=range(1, len(cumulative_accidents)+1), y=cumulative_accidents.values, marker='o')\n",
    "plt.title('Cumulative Accident Count for Top Models')\n",
    "plt.ylabel('Cumulative Accidents')\n",
    "plt.xlabel('Rank')\n",
    "plt.grid(True)\n",
    "plt.tight_layout()\n",
    "plt.show()"
   ]
  },
  {
   "cell_type": "code",
   "execution_count": 106,
   "metadata": {},
   "outputs": [
    {
     "data": {
      "image/png": "[encoded data removed]",
      "text/plain": [
       "<Figure size 864x432 with 1 Axes>"
      ]
     },
     "metadata": {},
     "output_type": "display_data"
    }
   ],
   "source": [
    "plt.figure(figsize=(12,6))\n",
    "top_models_data = df[df['Make_Model'].isin(top_models)]\n",
    "sns.boxplot(x='Make_Model', y='Severity_Score', data=top_models_data, palette='Set2')\n",
    "plt.xticks(rotation=45, ha='right')\n",
    "plt.title('Distribution of Severity Scores for Top Models')\n",
    "plt.ylabel('Severity Score')\n",
    "plt.xlabel('Make_Model')\n",
    "plt.tight_layout()\n",
    "plt.show()"
   ]
  },
  {
   "cell_type": "code",
   "execution_count": 109,
   "metadata": {},
   "outputs": [
    {
     "data": {
      "image/png": "[encoded data removed]",
      "text/plain": [
       "<Figure size 864x432 with 1 Axes>"
      ]
     },
     "metadata": {},
     "output_type": "display_data"
    }
   ],
   "source": [
    "# 5. Bar Chart: Top 10 Safest Models by Safety Index\n",
    "plt.figure(figsize=(12,6))\n",
    "top_safest = summary_sorted.head(10)\n",
    "sns.barplot(x=top_safest.index, y=top_safest['Safety_Score'], palette='coolwarm')\n",
    "plt.xticks(rotation=45, ha='right')\n",
    "plt.title('Top 10 Safest Aircraft Models (Lower = Better)')\n",
    "plt.ylabel('Safety Index')\n",
    "plt.xlabel('Make_Model')\n",
    "plt.tight_layout()\n",
    "plt.show()"
   ]
  },
  {
   "cell_type": "code",
   "execution_count": null,
   "metadata": {},
   "outputs": [],
   "source": []
  }
 ],
 "metadata": {
  "kernelspec": {
   "display_name": "Python (learn-env)",
   "language": "python",
   "name": "learn-env"
  },
  "language_info": {
   "codemirror_mode": {
    "name": "ipython",
    "version": 3
   },
   "file_extension": ".py",
   "mimetype": "text/x-python",
   "name": "python",
   "nbconvert_exporter": "python",
   "pygments_lexer": "ipython3",
   "version": "3.8.5"
  }
 },
 "nbformat": 4,
 "nbformat_minor": 5
}
